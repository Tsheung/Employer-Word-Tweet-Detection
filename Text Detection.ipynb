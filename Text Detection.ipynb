{
 "cells": [
  {
   "cell_type": "markdown",
   "metadata": {},
   "source": [
    "## Employee Word Detection Tweet"
   ]
  },
  {
   "cell_type": "markdown",
   "metadata": {},
   "source": [
    "70% of employers use social media as a way to screen potential candidates. Recently, previous tweets that were found to be racist or inappropriate have caused employees to be fired. These firings are appropriate yet caused money to be lost. As a potential way to screen potential hirers for inappropriate language before they are hired, this word detection tweet application was developed. "
   ]
  },
  {
   "cell_type": "markdown",
   "metadata": {},
   "source": [
    "#### Libraries"
   ]
  },
  {
   "cell_type": "code",
   "execution_count": 33,
   "metadata": {},
   "outputs": [],
   "source": [
    "import GetOldTweets3 as got\n",
    "import pandas as pd"
   ]
  },
  {
   "cell_type": "markdown",
   "metadata": {},
   "source": [
    "#### Inputs"
   ]
  },
  {
   "cell_type": "code",
   "execution_count": 34,
   "metadata": {},
   "outputs": [
    {
     "name": "stdout",
     "output_type": "stream",
     "text": [
      "Enter username: @realDonaldTrump\n"
     ]
    }
   ],
   "source": [
    "name = input(\"Enter username: \")"
   ]
  },
  {
   "cell_type": "code",
   "execution_count": 35,
   "metadata": {},
   "outputs": [
    {
     "name": "stdout",
     "output_type": "stream",
     "text": [
      "Enter Start Date YYYY-MM-DD: 2017-01-01\n"
     ]
    }
   ],
   "source": [
    "start = input(\"Enter Start Date YYYY-MM-DD: \")"
   ]
  },
  {
   "cell_type": "code",
   "execution_count": 36,
   "metadata": {},
   "outputs": [
    {
     "name": "stdout",
     "output_type": "stream",
     "text": [
      "Enter the End Date that Will not be Included YYYY-MM-DD: 2020-08-07\n"
     ]
    }
   ],
   "source": [
    "end = input(\"Enter the End Date that Will not be Included YYYY-MM-DD: \")"
   ]
  },
  {
   "cell_type": "code",
   "execution_count": 37,
   "metadata": {},
   "outputs": [
    {
     "name": "stdout",
     "output_type": "stream",
     "text": [
      "Enter Max Number of Tweets: 50\n"
     ]
    }
   ],
   "source": [
    "number = int(input(\"Enter Max Number of Tweets: \"))"
   ]
  },
  {
   "cell_type": "code",
   "execution_count": 56,
   "metadata": {},
   "outputs": [
    {
     "name": "stdout",
     "output_type": "stream",
     "text": [
      "Enter word to be found or -1 to finish: joe\n",
      "Enter word to be found or -1 to finish: birx\n",
      "Enter word to be found or -1 to finish: china\n",
      "Enter word to be found or -1 to finish: -1\n"
     ]
    }
   ],
   "source": [
    "search = []\n",
    "i = 0\n",
    "\n",
    "while i != '-1':\n",
    "    i = input(\"Enter word to be found or -1 to finish: \")\n",
    "    if i != '-1':\n",
    "        search.append(i)"
   ]
  },
  {
   "cell_type": "code",
   "execution_count": 57,
   "metadata": {},
   "outputs": [],
   "source": [
    "def get_tweets(username, start_date, end_date, max_tweets, search_word):\n",
    "    tweetCriteria = got.manager.TweetCriteria().setUsername(username)\\\n",
    "                                               .setSince(start_date)\\\n",
    "                                                .setUntil(end_date)\\\n",
    "                                                .setMaxTweets(max_tweets)\n",
    "\n",
    "    tweet = got.manager.TweetManager.getTweets(tweetCriteria)\n",
    "    tweet_return = [[i.username, i.text, i.date, i.mentions, i.hashtags] for i in tweet if any(s.lower() in i.text.lower() for s in search_word)]\n",
    "     \n",
    "    \n",
    "    #pandas\n",
    "    pd.set_option('display.max_colwidth', 1000)\n",
    "    tweets_org = pd.DataFrame(tweet_return, columns = ['User', 'Tweet', 'Date', 'Mentions', 'Hashtags'])\n",
    "    return tweets_org"
   ]
  },
  {
   "cell_type": "code",
   "execution_count": 58,
   "metadata": {},
   "outputs": [
    {
     "data": {
      "text/html": [
       "<div>\n",
       "<style scoped>\n",
       "    .dataframe tbody tr th:only-of-type {\n",
       "        vertical-align: middle;\n",
       "    }\n",
       "\n",
       "    .dataframe tbody tr th {\n",
       "        vertical-align: top;\n",
       "    }\n",
       "\n",
       "    .dataframe thead th {\n",
       "        text-align: right;\n",
       "    }\n",
       "</style>\n",
       "<table border=\"1\" class=\"dataframe\">\n",
       "  <thead>\n",
       "    <tr style=\"text-align: right;\">\n",
       "      <th></th>\n",
       "      <th>User</th>\n",
       "      <th>Tweet</th>\n",
       "      <th>Date</th>\n",
       "      <th>Mentions</th>\n",
       "      <th>Hashtags</th>\n",
       "    </tr>\n",
       "  </thead>\n",
       "  <tbody>\n",
       "    <tr>\n",
       "      <th>0</th>\n",
       "      <td>realDonaldTrump</td>\n",
       "      <td>Joe Biden: ‘Unlike the African American Community ... the Latino Community Is an Incredibly Diverse Community‘ https://www.breitbart.com/politics/2020/08/06/joe-biden-unlike-the-african-american-community-the-latino-community-is-an-incredibly-diverse-community-nabj/ via @BreitbartNews. Wow! Joe Biden just lost the entire African American community. What a “dumb” thing to say!</td>\n",
       "      <td>2020-08-06 17:11:08+00:00</td>\n",
       "      <td>@BreitbartNews</td>\n",
       "      <td></td>\n",
       "    </tr>\n",
       "    <tr>\n",
       "      <th>1</th>\n",
       "      <td>realDonaldTrump</td>\n",
       "      <td>How can voters be sending in Ballots starting, in some cases, one month before the First Presidential Debate. Move the First Debate up. A debate, to me, is a Public Service. Joe Biden and I owe it to the American People!</td>\n",
       "      <td>2020-08-06 11:44:48+00:00</td>\n",
       "      <td></td>\n",
       "      <td></td>\n",
       "    </tr>\n",
       "    <tr>\n",
       "      <th>2</th>\n",
       "      <td>realDonaldTrump</td>\n",
       "      <td>NASA was Closed &amp; Dead until I got it going again. Now it is the most vibrant place of its kind on the Planet...And we have Space Force to go along with it. We have accomplished more than any Administration in first 3 1/2 years. Sorry, but it all doesn’t happen with Sleepy Joe!</td>\n",
       "      <td>2020-08-05 10:23:54+00:00</td>\n",
       "      <td></td>\n",
       "      <td></td>\n",
       "    </tr>\n",
       "    <tr>\n",
       "      <th>3</th>\n",
       "      <td>realDonaldTrump</td>\n",
       "      <td>RECORD HIGH NASDAQ! It would all come crashing down, including your Jobs, Stocks, and 401k’s, if Sleepy Joe ever became President. China and others would own us!!!</td>\n",
       "      <td>2020-08-03 13:49:25+00:00</td>\n",
       "      <td></td>\n",
       "      <td></td>\n",
       "    </tr>\n",
       "    <tr>\n",
       "      <th>4</th>\n",
       "      <td>realDonaldTrump</td>\n",
       "      <td>So Crazy Nancy Pelosi said horrible things about Dr. Deborah Birx, going after her because she was too positive on the very good job we are doing on combatting the China Virus, including Vaccines &amp; Therapeutics. In order to counter Nancy, Deborah took the bait &amp; hit us. Pathetic!</td>\n",
       "      <td>2020-08-03 13:44:56+00:00</td>\n",
       "      <td></td>\n",
       "      <td></td>\n",
       "    </tr>\n",
       "    <tr>\n",
       "      <th>5</th>\n",
       "      <td>realDonaldTrump</td>\n",
       "      <td>Wow! Really bad TV Ratings for Morning Joe (@JoeNBC). @foxandfriends doing great, leading all others by far. @CNN not a factor!!!</td>\n",
       "      <td>2020-08-03 12:57:35+00:00</td>\n",
       "      <td>@JoeNBC @foxandfriends @CNN</td>\n",
       "      <td></td>\n",
       "    </tr>\n",
       "    <tr>\n",
       "      <th>6</th>\n",
       "      <td>realDonaldTrump</td>\n",
       "      <td>With the exception of New York &amp; a few other locations, we’ve done MUCH better than most other Countries in dealing with the China Virus. Many of these countries are now having a major second wave. The Fake News is working overtime to make the USA (&amp; me) look as bad as possible!</td>\n",
       "      <td>2020-08-03 11:46:24+00:00</td>\n",
       "      <td></td>\n",
       "      <td></td>\n",
       "    </tr>\n",
       "  </tbody>\n",
       "</table>\n",
       "</div>"
      ],
      "text/plain": [
       "              User  \\\n",
       "0  realDonaldTrump   \n",
       "1  realDonaldTrump   \n",
       "2  realDonaldTrump   \n",
       "3  realDonaldTrump   \n",
       "4  realDonaldTrump   \n",
       "5  realDonaldTrump   \n",
       "6  realDonaldTrump   \n",
       "\n",
       "                                                                                                                                                                                                                                                                                                                                                                                        Tweet  \\\n",
       "0  Joe Biden: ‘Unlike the African American Community ... the Latino Community Is an Incredibly Diverse Community‘ https://www.breitbart.com/politics/2020/08/06/joe-biden-unlike-the-african-american-community-the-latino-community-is-an-incredibly-diverse-community-nabj/ via @BreitbartNews. Wow! Joe Biden just lost the entire African American community. What a “dumb” thing to say!   \n",
       "1                                                                                                                                                                How can voters be sending in Ballots starting, in some cases, one month before the First Presidential Debate. Move the First Debate up. A debate, to me, is a Public Service. Joe Biden and I owe it to the American People!   \n",
       "2                                                                                                      NASA was Closed & Dead until I got it going again. Now it is the most vibrant place of its kind on the Planet...And we have Space Force to go along with it. We have accomplished more than any Administration in first 3 1/2 years. Sorry, but it all doesn’t happen with Sleepy Joe!   \n",
       "3                                                                                                                                                                                                                         RECORD HIGH NASDAQ! It would all come crashing down, including your Jobs, Stocks, and 401k’s, if Sleepy Joe ever became President. China and others would own us!!!   \n",
       "4                                                                                                    So Crazy Nancy Pelosi said horrible things about Dr. Deborah Birx, going after her because she was too positive on the very good job we are doing on combatting the China Virus, including Vaccines & Therapeutics. In order to counter Nancy, Deborah took the bait & hit us. Pathetic!   \n",
       "5                                                                                                                                                                                                                                                           Wow! Really bad TV Ratings for Morning Joe (@JoeNBC). @foxandfriends doing great, leading all others by far. @CNN not a factor!!!   \n",
       "6                                                                                                     With the exception of New York & a few other locations, we’ve done MUCH better than most other Countries in dealing with the China Virus. Many of these countries are now having a major second wave. The Fake News is working overtime to make the USA (& me) look as bad as possible!   \n",
       "\n",
       "                       Date                     Mentions Hashtags  \n",
       "0 2020-08-06 17:11:08+00:00               @BreitbartNews           \n",
       "1 2020-08-06 11:44:48+00:00                                        \n",
       "2 2020-08-05 10:23:54+00:00                                        \n",
       "3 2020-08-03 13:49:25+00:00                                        \n",
       "4 2020-08-03 13:44:56+00:00                                        \n",
       "5 2020-08-03 12:57:35+00:00  @JoeNBC @foxandfriends @CNN           \n",
       "6 2020-08-03 11:46:24+00:00                                        "
      ]
     },
     "execution_count": 58,
     "metadata": {},
     "output_type": "execute_result"
    }
   ],
   "source": [
    "get_tweets(name, start, end, number, search)"
   ]
  },
  {
   "cell_type": "markdown",
   "metadata": {},
   "source": [
    "Next Goals:\n",
    "1.) Tokenize the tweet column to identify which keyword is in tweet\n",
    "2.) Create Keyword column\n",
    "3.) Sentiment Analysis for easier understanding of tweet\n"
   ]
  },
  {
   "cell_type": "code",
   "execution_count": 46,
   "metadata": {},
   "outputs": [],
   "source": []
  }
 ],
 "metadata": {
  "kernelspec": {
   "display_name": "Python 3",
   "language": "python",
   "name": "python3"
  },
  "language_info": {
   "codemirror_mode": {
    "name": "ipython",
    "version": 3
   },
   "file_extension": ".py",
   "mimetype": "text/x-python",
   "name": "python",
   "nbconvert_exporter": "python",
   "pygments_lexer": "ipython3",
   "version": "3.7.3"
  }
 },
 "nbformat": 4,
 "nbformat_minor": 2
}
